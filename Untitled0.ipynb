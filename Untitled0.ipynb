{
 "metadata": {
  "name": ""
 },
 "nbformat": 3,
 "nbformat_minor": 0,
 "worksheets": [
  {
   "cells": [
    {
     "cell_type": "code",
     "collapsed": false,
     "input": [
      "shapes = [\"squiggle\", \"rounded-rectangle\", \"diamond\"]\n",
      "colors = [\"red\", \"green\", \"purple\"]\n",
      "numbers = [\"one\", \"two\", \"three\"]\n",
      "shadings = [\"empty\", \"solid\", \"striped\"]"
     ],
     "language": "python",
     "metadata": {},
     "outputs": [],
     "prompt_number": 1
    },
    {
     "cell_type": "code",
     "collapsed": false,
     "input": [
      "for color in colors:\n",
      "    for number in numbers:\n",
      "        for shading in shadings:\n",
      "            print number,shading,color,\"%s;\"%shapes[2],"
     ],
     "language": "python",
     "metadata": {},
     "outputs": [
      {
       "output_type": "stream",
       "stream": "stdout",
       "text": [
        "one empty red diamond; one solid red diamond; one striped red diamond; two empty red diamond; two solid red diamond; two striped red diamond; three empty red diamond; three solid red diamond; three striped red diamond; one empty green diamond; one solid green diamond; one striped green diamond; two empty green diamond; two solid green diamond; two striped green diamond; three empty green diamond; three solid green diamond; three striped green diamond; one empty purple diamond; one solid purple diamond; one striped purple diamond; two empty purple diamond; two solid purple diamond; two striped purple diamond; three empty purple diamond; three solid purple diamond; three striped purple diamond;\n"
       ]
      }
     ],
     "prompt_number": 5
    },
    {
     "cell_type": "code",
     "collapsed": false,
     "input": [
      "import matplotlib.pylab as plt"
     ],
     "language": "python",
     "metadata": {},
     "outputs": [],
     "prompt_number": 6
    },
    {
     "cell_type": "code",
     "collapsed": false,
     "input": [
      "plt.plot([0,15,30],[0,24.5, 48.7],'x')"
     ],
     "language": "python",
     "metadata": {},
     "outputs": [],
     "prompt_number": "*"
    },
    {
     "cell_type": "code",
     "collapsed": false,
     "input": [
      "plt.show()"
     ],
     "language": "python",
     "metadata": {},
     "outputs": [],
     "prompt_number": "*"
    },
    {
     "cell_type": "code",
     "collapsed": false,
     "input": [],
     "language": "python",
     "metadata": {},
     "outputs": []
    }
   ],
   "metadata": {}
  }
 ]
}