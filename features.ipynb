{
 "metadata": {
  "name": ""
 },
 "nbformat": 3,
 "nbformat_minor": 0,
 "worksheets": [
  {
   "cells": [
    {
     "cell_type": "code",
     "collapsed": false,
     "input": [
      "%pylab inline\n",
      "import cv\n",
      "import cv2\n",
      "import json\n",
      "import numpy as np\n",
      "import matplotlib.pyplot as plt\n",
      "import matplotlib.cm as cm\n",
      "\n",
      "import math\n",
      "import scipy.spatial\n",
      "from sklearn.cluster import KMeans\n",
      "from sklearn.neighbors import KNeighborsClassifier\n",
      "from sklearn.svm import SVC"
     ],
     "language": "python",
     "metadata": {},
     "outputs": [
      {
       "output_type": "stream",
       "stream": "stdout",
       "text": [
        "Populating the interactive namespace from numpy and matplotlib\n"
       ]
      }
     ],
     "prompt_number": 64
    },
    {
     "cell_type": "heading",
     "level": 1,
     "metadata": {},
     "source": [
      "cardidentifier.py"
     ]
    },
    {
     "cell_type": "code",
     "collapsed": false,
     "input": [
      "CARD_DIMENSIONS = (100, 140)"
     ],
     "language": "python",
     "metadata": {},
     "outputs": [],
     "prompt_number": 261
    },
    {
     "cell_type": "code",
     "collapsed": false,
     "input": [
      "import cv\n",
      "import cv2\n",
      "import math\n",
      "import numpy as np\n",
      "import random\n",
      "import scipy.spatial\n",
      "from sklearn.cluster import KMeans\n",
      "from sklearn.neighbors import KNeighborsClassifier\n",
      "from sklearn.svm import SVC\n",
      "\n",
      "SIFT_extractor = cv2.DescriptorExtractor_create(\"SIFT\")\n",
      "FAST = cv2.FastFeatureDetector()\n",
      "\n",
      "class CardIdentifier():\n",
      "    def __init__(self):\n",
      "        self.n_clusters = 40\n",
      "        self.patch_size = 9\n",
      "        self.patches_per_image = 100\n",
      "\n",
      "        # The classifiers used for identification\n",
      "        self.patch_clusterer = None\n",
      "        self.shape_clf = None\n",
      "        self.number_clf = None\n",
      "        self.shading_clf = None\n",
      "\n",
      "    def bwshrink(self, image, amt=10):\n",
      "        y,x = image.shape\n",
      "        return image[amt:y-amt,amt:x-amt]\n",
      "        \n",
      "    # Black and white patches\n",
      "    def patches_from(self, image):\n",
      "        # image = cv2.cvtColor(image, cv.CV_BGR2GRAY)\n",
      "        image = self.bwshrink(image)\n",
      "        y,x = image.shape\n",
      "        patches = []\n",
      "        \n",
      "        kp = fast.detect(image)\n",
      "        kp, descriptions = SIFT_extractor.compute(image, kp)\n",
      "        return descriptions\n",
      "\n",
      "        ps = self.patch_size\n",
      "        # for i in xrange(self.patches_per_image):\n",
      "        #     ry = random.randint(0, y - ps - 1)\n",
      "        #     rx = random.randint(0, x - ps - 1)\n",
      "        for ry in np.arange(0,1,1.0/20):\n",
      "            for rx in np.arange(0,1,1.0/20):\n",
      "                sy = ry * (y-ps)\n",
      "                sx = rx * (x-ps)\n",
      "\n",
      "\n",
      "\n",
      "                patch = image[sy:sy+ps,sx:sx+ps]\n",
      "                patch = np.reshape(patch, np.prod(patch.shape))\n",
      "                patches.append(patch)\n",
      "\n",
      "        return patches\n",
      "\n",
      "    def bag_from(self, image):\n",
      "        patches = self.patches_from(image)\n",
      "        bag = [0] * self.n_clusters\n",
      "        for cluster in self.patch_clusterer.predict(patches):\n",
      "            bag[cluster] += 1\n",
      "        return bag\n",
      "\n",
      "    def fit(self, X, Y):\n",
      "        patches = []\n",
      "        print \"Creating patches...\"\n",
      "        for image, card in zip(X, Y):\n",
      "            patches.extend(self.patches_from(image))\n",
      "\n",
      "        print \"Clustering %d patches...\" % len(patches)\n",
      "        self.patch_clusterer = KMeans(init='k-means++', n_clusters=self.n_clusters)\n",
      "        self.patch_clusterer.fit(patches)\n",
      "        print \"self.patch_clusterer.get_params()\"\n",
      "        print self.patch_clusterer.get_params()\n",
      "\n",
      "        bags = []\n",
      "        print \"Creating bags...\"\n",
      "        for image, card in zip(X, Y):\n",
      "            bags.append(self.bag_from(image))\n",
      "\n",
      "        NUMBER = 0\n",
      "        SHADING = 1\n",
      "        COLOR = 2\n",
      "        SHAPE = 3\n",
      "        print \"Training on shapes, numbers, and shadings...\"\n",
      "        self.number_clf = SVC()\n",
      "        self.number_clf.fit(bags, Y[:,NUMBER])\n",
      "        self.shading_clf = SVC()\n",
      "        self.shading_clf.fit(bags, Y[:,SHADING])\n",
      "        self.shape_clf = SVC()\n",
      "        self.shape_clf.fit(bags, Y[:,SHAPE])\n",
      "        print \"Done training.\"\n",
      "\n",
      "    def predict_number(self, image):\n",
      "        bag = self.bag_from(image)\n",
      "        return self.number_clf.predict(bag)\n",
      "\n",
      "    def predict_shading(self, image):\n",
      "        bag = self.bag_from(image)\n",
      "        return self.shading_clf.predict(bag)\n",
      "\n",
      "    def predict_shape(self, image):\n",
      "        bag = self.bag_from(image)\n",
      "        return self.shape_clf.predict(bag)\n",
      "\n",
      "    def predict_color(self, image):\n",
      "        # Assumes rectified image\n",
      "        y,x,depth = image.shape\n",
      "\n",
      "\n",
      "        BLACK = [0,0,0]\n",
      "        WHITE = [255,255,255]\n",
      "        CARDWHITE = [201,194,178]\n",
      "        RED = [208,38,31]\n",
      "        GREEN = [0,137,66]\n",
      "        PURPLE = [69,24,70]\n",
      "        colors = [BLACK, WHITE, CARDWHITE, RED, GREEN, PURPLE]\n",
      "        color_names = [\"BLACK\", \"WHITE\", \"CARDWHITE\", \"RED\", \"GREEN\", \"PURPLE\"]\n",
      "        color_counts = [0] * len(colors) # black,white,cardwhite, orange, green, purple\n",
      "        for i in xrange(y):\n",
      "            for j in xrange(x):\n",
      "                color = list(reversed(image[i,j,:]))\n",
      "                dists = scipy.spatial.distance.cdist([color], colors)\n",
      "                if np.min(dists) < 50:\n",
      "                    color_counts[np.argmin(dists)] += 1\n",
      "\n",
      "        color_counts[0] = 0\n",
      "        color_counts[1] = 0\n",
      "        color_counts[2] = 0\n",
      "        return color_names[np.argmax(color_counts)]\n",
      "\n",
      "    def predict(self, image):\n",
      "        # skew = self.rectify(image, pts)\n",
      "        return [self.predict_color(image)]\n",
      "\n",
      "    def rectify(self, image, pts):\n",
      "        corners = np.float32(pts)\n",
      "\n",
      "        target_corners = np.float32([\n",
      "            (0, 0),\n",
      "            (CARD_DIMENSIONS[0], 0),\n",
      "            (CARD_DIMENSIONS[0], CARD_DIMENSIONS[1]),\n",
      "            (0, CARD_DIMENSIONS[1])\n",
      "        ])\n",
      "\n",
      "        m, mask = cv2.findHomography(corners, target_corners)\n",
      "        skew = cv2.warpPerspective(image, m, CARD_DIMENSIONS)\n",
      "        return skew\n"
     ],
     "language": "python",
     "metadata": {},
     "outputs": [],
     "prompt_number": 206
    },
    {
     "cell_type": "code",
     "collapsed": false,
     "input": [
      "def groundtruth(filename=\"data/ground_truth.txt\"):\n",
      "    groundtruthfile = open(filename)\n",
      "\n",
      "    for line in groundtruthfile:\n",
      "        tokens = [x.strip() for x in line.strip().split(\":\")]\n",
      "        filename = tokens[0]\n",
      "        cards = None if len(tokens) == 1 else [x.strip() for x in tokens[1].split(\";\")]\n",
      "        yield (filename, cards)\n",
      "\n",
      "    groundtruthfile.close()\n"
     ],
     "language": "python",
     "metadata": {},
     "outputs": [],
     "prompt_number": 207
    },
    {
     "cell_type": "code",
     "collapsed": false,
     "input": [
      "def attrs_from_card(card):\n",
      "    tokens = card.split(\" \")\n",
      "    return tokens[:4]\n",
      "\n",
      "def points_from_card(card):\n",
      "    tokens = card.split(\" \")\n",
      "    if len(tokens) > 4:\n",
      "        points = eval(\"[%s]\" % ''.join(tokens[4:]))\n",
      "        return points"
     ],
     "language": "python",
     "metadata": {},
     "outputs": [],
     "prompt_number": 208
    },
    {
     "cell_type": "code",
     "collapsed": false,
     "input": [
      "c = CardIdentifier()"
     ],
     "language": "python",
     "metadata": {},
     "outputs": [],
     "prompt_number": 209
    },
    {
     "cell_type": "code",
     "collapsed": false,
     "input": [
      "def shrink(image, amt=10):\n",
      "    y,x = image.shape\n",
      "    return image[amt:y-amt,amt:x-amt]"
     ],
     "language": "python",
     "metadata": {},
     "outputs": [],
     "prompt_number": 212
    },
    {
     "cell_type": "code",
     "collapsed": false,
     "input": [
      "sift = cv2.SIFT(nfeatures=20)\n",
      "brisk = cv2.BRISK()\n",
      "surf = cv2.SURF()\n",
      "fast = cv2.FastFeatureDetector()\n",
      "brief_extractor = cv2.DescriptorExtractor_create(\"BRIEF\")\n",
      "cv2.namedWindow(\"w1\", cv.CV_WINDOW_AUTOSIZE)\n",
      "for image, card in zip(X,Y):\n",
      "    image = shrink(image, 10)\n",
      "#     im = cv2.cvtColor(image, cv.CV_BGR2GRAY)\n",
      "#     im = image\n",
      "#     print len(sift.detect(im)), len(brisk.detect(im)), len(surf.detect(im)), ' '.join(card)\n",
      "    \n",
      "    kp = fast.detect(im)\n",
      "    kp, descriptions = SIFT_extractor.compute(im, kp)\n",
      "#     print len(kp), descriptions\n",
      "#     image = cv2.drawKeypoints(image,kp,color=(255,0,0))\n",
      "#     plt.figure()\n",
      "#     plt.imshow(image, cmap=cm.Greys_r)\n",
      "    \n",
      "# raw_input()"
     ],
     "language": "python",
     "metadata": {},
     "outputs": [],
     "prompt_number": 214
    },
    {
     "cell_type": "heading",
     "level": 1,
     "metadata": {},
     "source": [
      "Generate X,Y"
     ]
    },
    {
     "cell_type": "code",
     "collapsed": false,
     "input": [
      "NUMBER, SHADING, COLOR, SHAPE = 0, 1, 2, 3"
     ],
     "language": "python",
     "metadata": {},
     "outputs": [],
     "prompt_number": 302
    },
    {
     "cell_type": "code",
     "collapsed": false,
     "input": [
      "def gen_data(filename):\n",
      "    # Generate labelled data\n",
      "    X = []\n",
      "    Y = []\n",
      "    for i, (filename, cards) in enumerate(groundtruth(filename)):\n",
      "        image = cv2.imread(filename)\n",
      "#         image = cv2.cvtColor(image, cv.CV_BGR2GRAY)\n",
      "#         image = cv2.Canny(image, 404/2, 156/2, apertureSize=3)\n",
      "        for j, card in enumerate(cards):\n",
      "            pts = points_from_card(card)\n",
      "            if not pts:\n",
      "                continue\n",
      "    \n",
      "            cardimage = c.rectify(image, pts)\n",
      "    \n",
      "            X.append(cardimage)\n",
      "            Y.append(attrs_from_card(card))\n",
      "    \n",
      "    Y = np.array(Y)\n",
      "    return X,Y"
     ],
     "language": "python",
     "metadata": {},
     "outputs": [],
     "prompt_number": 303
    },
    {
     "cell_type": "heading",
     "level": 1,
     "metadata": {},
     "source": [
      "Train"
     ]
    },
    {
     "cell_type": "code",
     "collapsed": false,
     "input": [
      "X, Y = gen_data(\"data/training.txt\")"
     ],
     "language": "python",
     "metadata": {},
     "outputs": [],
     "prompt_number": 304
    },
    {
     "cell_type": "code",
     "collapsed": false,
     "input": [
      "# c.fit(X,Y)"
     ],
     "language": "python",
     "metadata": {},
     "outputs": [],
     "prompt_number": 305
    },
    {
     "cell_type": "heading",
     "level": 1,
     "metadata": {},
     "source": [
      "Test"
     ]
    },
    {
     "cell_type": "code",
     "collapsed": false,
     "input": [
      "# Generate labelled data\n",
      "testX, testY = gen_data(\"data/training.txt\")"
     ],
     "language": "python",
     "metadata": {},
     "outputs": [],
     "prompt_number": 756
    },
    {
     "cell_type": "code",
     "collapsed": false,
     "input": [
      "counts = [0]*5\n",
      "for testimage, card in zip(testX,testY):\n",
      "    image = testimage.copy()\n",
      "    imagedrawcopy = testimage.copy()\n",
      "#     number = c.predict_number(image) == card[0]\n",
      "#     shading = c.predict_shading(image) == card[1]\n",
      "#     shape = c.predict_shape(image) == card[3]\n",
      "    \n",
      "#     print ' '.join(card)\n",
      "\n",
      "    # SHAPE \n",
      "#     shape = get_shape(image, 2 if card[NUMBER]==\"two\" else 1)\n",
      "#     shapeok = shape == card[SHAPE]\n",
      "     \n",
      "    # SHADING\n",
      "    number = 2 if card[NUMBER]==\"two\" else 1\n",
      "    shading = get_shading(image, number, card[COLOR])\n",
      "    shadingok = shading == card[SHADING]\n",
      "    \n",
      "#     if card[SHADING] == 'striped':\n",
      "    print \"Actual:  \",card[SHADING]\n",
      "    print \"Predict: \",shading\n",
      "    print\n",
      "\n",
      "#     if card[SHADING] == 'striped' and not shadingok:\n",
      "#         gray = cv2.cvtColor(image, cv.CV_BGR2GRAY)\n",
      "#         canny = cv2.Canny(gray, 404/2, 156/2, apertureSize=3)    \n",
      "#         cannycopy = canny.copy()\n",
      "#         center = find_center(canny, number)\n",
      "        \n",
      "#         cv2.circle(imagedrawcopy, center, 1, (0,255,0))\n",
      "#         plt.imshow(imagedrawcopy, cmap=cm.Greys_r)\n",
      "#         plt.show()\n",
      "#         print \"Actual:  \",card[SHADING]\n",
      "#         print \"Predict: \",shading\n",
      "        \n",
      "#     print '---'\n",
      "    \n",
      "#     counts[NUMBER] += number\n",
      "    counts[SHADING] += shadingok\n",
      "#     counts[SHAPE] += shapeok\n",
      "#     counts[4] += number and shading and shape"
     ],
     "language": "python",
     "metadata": {},
     "outputs": [
      {
       "output_type": "stream",
       "stream": "stdout",
       "text": [
        "Actual:   empty\n",
        "Predict:  empty\n",
        "\n",
        "Actual:   solid\n",
        "Predict:  solid\n",
        "\n",
        "Actual:   striped\n",
        "Predict:  striped\n",
        "\n",
        "Actual:   empty\n",
        "Predict:  empty\n",
        "\n",
        "Actual:   solid\n",
        "Predict:  solid\n",
        "\n",
        "Actual:   striped\n",
        "Predict:  striped\n",
        "\n",
        "Actual:  "
       ]
      },
      {
       "output_type": "stream",
       "stream": "stdout",
       "text": [
        " empty\n",
        "Predict:  empty\n",
        "\n",
        "Actual:   solid\n",
        "Predict:  solid\n",
        "\n",
        "Actual:   striped\n",
        "Predict:  striped\n",
        "\n",
        "Actual:   empty\n",
        "Predict:  empty\n",
        "\n",
        "Actual:   solid\n",
        "Predict:  solid\n",
        "\n",
        "Actual:   striped\n",
        "Predict:  striped\n",
        "\n",
        "Actual:  "
       ]
      },
      {
       "output_type": "stream",
       "stream": "stdout",
       "text": [
        " empty\n",
        "Predict:  empty\n",
        "\n",
        "Actual:   solid\n",
        "Predict:  solid\n",
        "\n",
        "Actual:   striped\n",
        "Predict:  striped\n",
        "\n",
        "Actual:   empty\n",
        "Predict:  empty\n",
        "\n",
        "Actual:   solid\n",
        "Predict:  solid\n",
        "\n",
        "Actual:   striped\n",
        "Predict:  striped\n",
        "\n",
        "Actual:   empty\n",
        "Predict:  empty\n",
        "\n",
        "Actual:  "
       ]
      },
      {
       "output_type": "stream",
       "stream": "stdout",
       "text": [
        " solid\n",
        "Predict:  solid\n",
        "\n",
        "Actual:   striped\n",
        "Predict:  striped\n",
        "\n",
        "Actual:   empty\n",
        "Predict:  empty\n",
        "\n",
        "Actual:   solid\n",
        "Predict:  solid\n",
        "\n",
        "Actual:   striped\n",
        "Predict:  striped\n",
        "\n",
        "Actual:   empty\n",
        "Predict:  empty\n",
        "\n",
        "Actual:  "
       ]
      },
      {
       "output_type": "stream",
       "stream": "stdout",
       "text": [
        " solid\n",
        "Predict:  solid\n",
        "\n",
        "Actual:   striped\n",
        "Predict:  striped\n",
        "\n",
        "Actual:   empty\n",
        "Predict:  empty\n",
        "\n",
        "Actual:   solid\n",
        "Predict:  solid\n",
        "\n",
        "Actual:   striped\n",
        "Predict:  striped\n",
        "\n",
        "Actual:   empty\n",
        "Predict:  empty\n",
        "\n",
        "Actual:  "
       ]
      },
      {
       "output_type": "stream",
       "stream": "stdout",
       "text": [
        " solid\n",
        "Predict:  solid\n",
        "\n",
        "Actual:   striped\n",
        "Predict:  striped\n",
        "\n",
        "Actual:   empty\n",
        "Predict:  empty\n",
        "\n",
        "Actual:   solid\n",
        "Predict:  solid\n",
        "\n",
        "Actual:   striped\n",
        "Predict:  striped\n",
        "\n",
        "Actual:   empty\n",
        "Predict:  empty\n",
        "\n",
        "Actual:  "
       ]
      },
      {
       "output_type": "stream",
       "stream": "stdout",
       "text": [
        " solid\n",
        "Predict:  solid\n",
        "\n",
        "Actual:   striped\n",
        "Predict:  striped\n",
        "\n",
        "Actual:   empty\n",
        "Predict:  empty\n",
        "\n",
        "Actual:   solid\n",
        "Predict:  solid\n",
        "\n",
        "Actual:   striped\n",
        "Predict:  empty\n",
        "\n",
        "Actual:  "
       ]
      },
      {
       "output_type": "stream",
       "stream": "stdout",
       "text": [
        " empty\n",
        "Predict:  empty\n",
        "\n",
        "Actual:   solid\n",
        "Predict:  solid\n",
        "\n",
        "Actual:   striped\n",
        "Predict:  striped\n",
        "\n",
        "Actual:   empty\n",
        "Predict:  empty\n",
        "\n",
        "Actual:   solid\n",
        "Predict:  solid\n",
        "\n",
        "Actual:   striped\n",
        "Predict:  striped\n",
        "\n",
        "Actual:  "
       ]
      },
      {
       "output_type": "stream",
       "stream": "stdout",
       "text": [
        " empty\n",
        "Predict:  empty\n",
        "\n",
        "Actual:   solid\n",
        "Predict:  solid\n",
        "\n",
        "Actual:   striped\n",
        "Predict:  striped\n",
        "\n",
        "Actual:   empty\n",
        "Predict:  empty\n",
        "\n",
        "Actual:   solid\n",
        "Predict:  solid\n",
        "\n",
        "Actual:   striped\n",
        "Predict:  striped\n",
        "\n",
        "Actual:  "
       ]
      },
      {
       "output_type": "stream",
       "stream": "stdout",
       "text": [
        " empty\n",
        "Predict:  empty\n",
        "\n",
        "Actual:   solid\n",
        "Predict:  solid\n",
        "\n",
        "Actual:   striped\n",
        "Predict:  striped\n",
        "\n",
        "Actual:   empty\n",
        "Predict:  empty\n",
        "\n",
        "Actual:   solid\n",
        "Predict:  solid\n",
        "\n",
        "Actual:  "
       ]
      },
      {
       "output_type": "stream",
       "stream": "stdout",
       "text": [
        " striped\n",
        "Predict:  empty\n",
        "\n",
        "Actual:   empty\n",
        "Predict:  empty\n",
        "\n",
        "Actual:   solid\n",
        "Predict:  solid\n",
        "\n",
        "Actual:   striped\n",
        "Predict:  striped\n",
        "\n",
        "Actual:   empty\n",
        "Predict:  empty\n",
        "\n",
        "Actual:   solid\n",
        "Predict:  solid\n",
        "\n",
        "Actual:   striped\n",
        "Predict:  striped\n",
        "\n",
        "Actual:  "
       ]
      },
      {
       "output_type": "stream",
       "stream": "stdout",
       "text": [
        " empty\n",
        "Predict:  empty\n",
        "\n",
        "Actual:   solid\n",
        "Predict:  solid\n",
        "\n",
        "Actual:   striped\n",
        "Predict:  striped\n",
        "\n",
        "Actual:   empty\n",
        "Predict:  empty\n",
        "\n",
        "Actual:   solid\n",
        "Predict:  solid\n",
        "\n",
        "Actual:   striped\n",
        "Predict:  striped\n",
        "\n",
        "Actual:  "
       ]
      },
      {
       "output_type": "stream",
       "stream": "stdout",
       "text": [
        " empty\n",
        "Predict:  empty\n",
        "\n",
        "Actual:   solid\n",
        "Predict:  solid\n",
        "\n",
        "Actual:   striped\n",
        "Predict:  striped\n",
        "\n",
        "Actual:   empty\n",
        "Predict:  empty\n",
        "\n",
        "Actual:   solid\n",
        "Predict:  solid\n",
        "\n",
        "Actual:   striped\n",
        "Predict:  striped\n",
        "\n",
        "Actual:  "
       ]
      },
      {
       "output_type": "stream",
       "stream": "stdout",
       "text": [
        " empty\n",
        "Predict:  empty\n",
        "\n",
        "Actual:   solid\n",
        "Predict:  solid\n",
        "\n",
        "Actual:   striped\n",
        "Predict:  striped\n",
        "\n"
       ]
      }
     ],
     "prompt_number": 762
    },
    {
     "cell_type": "code",
     "collapsed": false,
     "input": [
      "counts, len(testX), len(X)"
     ],
     "language": "python",
     "metadata": {},
     "outputs": [
      {
       "metadata": {},
       "output_type": "pyout",
       "prompt_number": 758,
       "text": [
        "([0, 79, 0, 0, 0], 81, 81)"
       ]
      }
     ],
     "prompt_number": 758
    },
    {
     "cell_type": "code",
     "collapsed": false,
     "input": [
      "def predict_card(image):\n",
      "    orig = image\n",
      "    y,x = image.shape\n",
      "    image = image[3:y-3,3:x-3]\n",
      "    image = image.reshape(np.prod(image.shape))\n",
      "    best = None\n",
      "    for im, card in zip(X, Y):  # go through the 81 cards\n",
      "        orig_im = im\n",
      "        y,x = im.shape\n",
      "        for i in xrange(6):\n",
      "            for j in xrange(6):\n",
      "                im = orig_im[i:y-(6-i),j:x-(6-j)]\n",
      "                im = im.reshape(np.prod(im.shape))\n",
      "                value = image.dot(im) / (np.linalg.norm(image) * np.linalg.norm(im))\n",
      "                if best is None or value > best[1]:\n",
      "                    best = (card, value, orig_im)\n",
      "\n",
      "    plt.figure()\n",
      "    plt.imshow(orig, cmap=cm.Greys_r)\n",
      "    plt.figure()\n",
      "    plt.imshow(best[2], cmap=cm.Greys_r)\n",
      "    plt.show()\n",
      "    return best[0]"
     ],
     "language": "python",
     "metadata": {},
     "outputs": [],
     "prompt_number": 557
    },
    {
     "cell_type": "heading",
     "level": 1,
     "metadata": {},
     "source": [
      "Shape"
     ]
    },
    {
     "cell_type": "code",
     "collapsed": false,
     "input": [
      "# TODO(Bieber): Index to speed up finding particular cards\n",
      "def exampleofshape(shape=\"diamond\"):\n",
      "    for image, card in zip(X, Y):\n",
      "        if card[SHAPE] == shape and card[NUMBER] == 'one' and card[SHADING] == 'solid':\n",
      "            return image"
     ],
     "language": "python",
     "metadata": {},
     "outputs": [],
     "prompt_number": 558
    },
    {
     "cell_type": "raw",
     "metadata": {},
     "source": [
      "Distance to edge from a point in a particular direction"
     ]
    },
    {
     "cell_type": "code",
     "collapsed": false,
     "input": [
      "def is_edge_at(canny, point):\n",
      "    # point is x,y\n",
      "    window = canny[point[1]-1:point[1]+1,point[0]-1:point[0]+1]\n",
      "    return sum(window) > 0"
     ],
     "language": "python",
     "metadata": {},
     "outputs": [],
     "prompt_number": 559
    },
    {
     "cell_type": "code",
     "collapsed": false,
     "input": [
      "def distance_to_edge(canny, pt, direction):\n",
      "    dist = 0.0\n",
      "    point = pt  # x,y\n",
      "    while dist < 50 and not is_edge_at(canny, point):\n",
      "        point = (int(pt[0] + dist * cos(direction)), int(pt[1] + dist * sin(direction)))\n",
      "        dist += 1\n",
      "    return dist"
     ],
     "language": "python",
     "metadata": {},
     "outputs": [],
     "prompt_number": 560
    },
    {
     "cell_type": "code",
     "collapsed": false,
     "input": [
      "def find_center(canny, number=1):\n",
      "    # x,y\n",
      "    center = (50,70)\n",
      "    if number == 2:\n",
      "        center = (50,48)\n",
      "        \n",
      "    for i in xrange(2):\n",
      "        distRight = distance_to_edge(canny, center, 0)\n",
      "        distLeft = distance_to_edge(canny, center, np.pi)\n",
      "        center = (center[0] + (distRight - distLeft) / 2, center[1])\n",
      "        \n",
      "        distUp = distance_to_edge(canny, center, np.pi/2)\n",
      "        distDown = distance_to_edge(canny, center, 3*np.pi/2)\n",
      "        center = (center[0], center[1] + (distUp - distDown) / 2)\n",
      "        \n",
      "    center = (int(center[0]), int(center[1]))\n",
      "    return center"
     ],
     "language": "python",
     "metadata": {},
     "outputs": [],
     "prompt_number": 561
    },
    {
     "cell_type": "code",
     "collapsed": false,
     "input": [
      "def dists_to_edges(canny, point):\n",
      "    dists = []\n",
      "    for direction in np.arange(0,2*np.pi,np.pi/24):\n",
      "        dist = distance_to_edge(canny, point, direction)\n",
      "        if dist == 50 and len(dists) > 0:\n",
      "            dist = dists[-1]\n",
      "        dists.append(dist)\n",
      "    return np.array(dists)"
     ],
     "language": "python",
     "metadata": {},
     "outputs": [],
     "prompt_number": 562
    },
    {
     "cell_type": "code",
     "collapsed": false,
     "input": [
      "onediamond = exampleofshape(\"diamond\")\n",
      "cannydiamond = cv2.Canny(onediamond, 404/2, 156/2, apertureSize=3)\n",
      "diamond_center = find_center(cannydiamond, 1)\n",
      "diamond_dists = dists_to_edges(cannydiamond, diamond_center)\n",
      "diamond_dists /= np.linalg.norm(diamond_dists)\n",
      "\n",
      "cannycopy = cannydiamond.copy()\n",
      "cv2.circle(cannycopy, diamond_center, 1, (0,0,255))\n",
      "plt.imshow(cannycopy, cmap=cm.Greys_r)\n",
      "print diamond_dists"
     ],
     "language": "python",
     "metadata": {},
     "outputs": [
      {
       "output_type": "stream",
       "stream": "stdout",
       "text": [
        "[ 0.26238599  0.21608258  0.18521364  0.16206193  0.14662746  0.13891023\n",
        "  0.13119299  0.12347576  0.11575852  0.12347576  0.12347576  0.13119299\n",
        "  0.11575852  0.11575852  0.11575852  0.10804129  0.10804129  0.11575852\n",
        "  0.12347576  0.13119299  0.13891023  0.1543447   0.18521364  0.22379981\n",
        "  0.22379981  0.1774964   0.13891023  0.13119299  0.11575852  0.10804129\n",
        "  0.10032405  0.10032405  0.09260682  0.09260682  0.10032405  0.10032405\n",
        "  0.10804129  0.10804129  0.11575852  0.11575852  0.11575852  0.11575852\n",
        "  0.13119299  0.13891023  0.14662746  0.16206193  0.19293087  0.23151705]\n"
       ]
      },
      {
       "metadata": {},
       "output_type": "display_data",
       "png": "[encoded data removed]",
       "text": [
        "<matplotlib.figure.Figure at 0x106f6c910>"
       ]
      }
     ],
     "prompt_number": 625
    },
    {
     "cell_type": "code",
     "collapsed": false,
     "input": [
      "onesquiggle = exampleofshape(\"squiggle\")\n",
      "cannysquiggle = cv2.Canny(onesquiggle, 404/2, 156/2, apertureSize=3)\n",
      "squiggle_center = find_center(cannysquiggle, 1)\n",
      "squiggle_dists = dists_to_edges(cannysquiggle, squiggle_center)\n",
      "squiggle_dists /= np.linalg.norm(squiggle_dists)\n",
      "\n",
      "cannycopy = cannysquiggle.copy()\n",
      "cv2.circle(cannycopy, squiggle_center, 1, (255,0,0))\n",
      "plt.imshow(cannycopy, cmap=cm.Greys_r)\n",
      "print squiggle_dists"
     ],
     "language": "python",
     "metadata": {},
     "outputs": [
      {
       "output_type": "stream",
       "stream": "stdout",
       "text": [
        "[ 0.22604259  0.21897876  0.2048511   0.19072344  0.17659578  0.14834045\n",
        "  0.12714896  0.10595747  0.09889364  0.08476597  0.08476597  0.07770214\n",
        "  0.07063831  0.07063831  0.07063831  0.07063831  0.07063831  0.07063831\n",
        "  0.07770214  0.0918298   0.10595747  0.23310643  0.24017026  0.24017026\n",
        "  0.22604259  0.21191493  0.19072344  0.17659578  0.15540428  0.14127662\n",
        "  0.12008513  0.10595747  0.09889364  0.08476597  0.08476597  0.07770214\n",
        "  0.07770214  0.07063831  0.07063831  0.07063831  0.07063831  0.07063831\n",
        "  0.07770214  0.0918298   0.12008513  0.22604259  0.24017026  0.23310643]\n"
       ]
      },
      {
       "metadata": {},
       "output_type": "display_data",
       "png": "[encoded data removed]",
       "text": [
        "<matplotlib.figure.Figure at 0x1066c3090>"
       ]
      }
     ],
     "prompt_number": 564
    },
    {
     "cell_type": "code",
     "collapsed": false,
     "input": [
      "onerect = exampleofshape(\"rounded-rectangle\")\n",
      "cannyrect = cv2.Canny(onerect, 404/2, 156/2, apertureSize=3)\n",
      "rect_center = find_center(cannyrect, 1)\n",
      "rect_dists = dists_to_edges(cannyrect, rect_center)\n",
      "rect_dists /= np.linalg.norm(rect_dists)\n",
      "\n",
      "cannycopy = cannyrect.copy()\n",
      "cv2.circle(cannycopy, rect_center, 1, (255,0,0))\n",
      "plt.imshow(cannycopy, cmap=cm.Greys_r)\n",
      "print rect_dists"
     ],
     "language": "python",
     "metadata": {},
     "outputs": [
      {
       "output_type": "stream",
       "stream": "stdout",
       "text": [
        "[ 0.20476355  0.20476355  0.19271864  0.18067372  0.16260635  0.14453898\n",
        "  0.12647161  0.11442669  0.10840423  0.10238178  0.09635932  0.09635932\n",
        "  0.09033686  0.09635932  0.09635932  0.10238178  0.10840423  0.11442669\n",
        "  0.12647161  0.14453898  0.16862881  0.18669618  0.1987411   0.20476355\n",
        "  0.21078601  0.1987411   0.19271864  0.17465127  0.15658389  0.13851652\n",
        "  0.12044915  0.10840423  0.10238178  0.09635932  0.09033686  0.09033686\n",
        "  0.09033686  0.09033686  0.09033686  0.09635932  0.10238178  0.10840423\n",
        "  0.12044915  0.13851652  0.16260635  0.18067372  0.19271864  0.20476355]\n"
       ]
      },
      {
       "metadata": {},
       "output_type": "display_data",
       "png": "[encoded data removed]",
       "text": [
        "<matplotlib.figure.Figure at 0x107914310>"
       ]
      }
     ],
     "prompt_number": 565
    },
    {
     "cell_type": "code",
     "collapsed": false,
     "input": [
      "shape_dists = [diamond_dists,squiggle_dists,rect_dists]"
     ],
     "language": "python",
     "metadata": {},
     "outputs": [],
     "prompt_number": 566
    },
    {
     "cell_type": "code",
     "collapsed": false,
     "input": [
      "def get_shape(image, number=1):\n",
      "    #     determine centers\n",
      "    gray = cv2.cvtColor(image, cv.CV_BGR2GRAY)\n",
      "    canny = cv2.Canny(gray, 404/2, 156/2, apertureSize=3)    \n",
      "    cannycopy = canny.copy()\n",
      "    \n",
      "    center = find_center(canny, number)\n",
      "    dists = dists_to_edges(canny, center)\n",
      "    dists /= np.linalg.norm(dists)\n",
      "    \n",
      "    cv2.circle(cannycopy,center,1,(0,0,255))\n",
      "    sims = [similarity(dists, shape_dist) for shape_dist in shape_dists]\n",
      "\n",
      "#     plt.imshow(diamond, cmap=cm.Greys_r)\n",
      "#     plt.imshow(image, cmap=cm.Greys_r)\n",
      "#     plt.show()\n",
      "#     plt.imshow(cannycopy, cmap=cm.Greys_r)\n",
      "#     plt.show()\n",
      "#     plt.imshow(gray, cmap=cm.Greys_r)\n",
      "#     plt.show()\n",
      "    shapes = [\"diamond\", \"squiggle\", \"rounded-rectangle\"]\n",
      "    return shapes[np.argmax(sims)]"
     ],
     "language": "python",
     "metadata": {},
     "outputs": [],
     "prompt_number": 626
    },
    {
     "cell_type": "code",
     "collapsed": false,
     "input": [
      "def similarity(a1,a2):\n",
      "    return 1 - np.sqrt(sum(a1-a2)**2)"
     ],
     "language": "python",
     "metadata": {},
     "outputs": [],
     "prompt_number": 627
    },
    {
     "cell_type": "code",
     "collapsed": false,
     "input": [
      "similarity(squiggle_dists, rect_dists)"
     ],
     "language": "python",
     "metadata": {},
     "outputs": [
      {
       "metadata": {},
       "output_type": "pyout",
       "prompt_number": 628,
       "text": [
        "0.62076485502575451"
       ]
      }
     ],
     "prompt_number": 628
    },
    {
     "cell_type": "code",
     "collapsed": false,
     "input": [],
     "language": "python",
     "metadata": {},
     "outputs": [],
     "prompt_number": 628
    },
    {
     "cell_type": "heading",
     "level": 1,
     "metadata": {},
     "source": [
      "Shading"
     ]
    },
    {
     "cell_type": "code",
     "collapsed": false,
     "input": [
      "def get_shading(image, number=1, color=\"red\"):\n",
      "    colorwords = [\"red\",\"green\",\"purple\"]\n",
      "    colorindex = colorwords.index(color)\n",
      "    gray = cv2.cvtColor(image,cv2.COLOR_BGR2GRAY)\n",
      "    edges = cv2.Canny(gray, 404/2, 156/2, apertureSize=3)\n",
      "    image = cv2.cvtColor(image, cv2.COLOR_BGR2HSV)\n",
      "    height, width = edges.shape\n",
      "\n",
      "    graycopy = gray.copy()\n",
      "    tc = (10,50) # topcenter row,col\n",
      "    tc = (50,10) # leftupabit row,col\n",
      "    cv2.circle(graycopy, (tc[1],tc[0]), 2, (0,0,0))\n",
      "    white = np.mean(gray[tc[0]-2:tc[0]+2,tc[1]-2:tc[1]+2])\n",
      "    \n",
      "    \n",
      "    center = find_center(edges, number)\n",
      "    ws = 2 # window size\n",
      "    window = gray[center[1]-ws:center[1]+ws, center[0]-ws:center[0]+ws]\n",
      "    avg_color = np.mean(window)\n",
      "    \n",
      "    ratio = avg_color / white\n",
      "#     show(gray)\n",
      "    if ratio < .6:\n",
      "        guess = 'solid'\n",
      "    elif ratio < .95:\n",
      "        guess = 'striped'\n",
      "    else:\n",
      "        guess = 'empty'\n",
      "        \n",
      "    return guess\n",
      "    return (guess, ratio)\n"
     ],
     "language": "python",
     "metadata": {},
     "outputs": [],
     "prompt_number": 759
    },
    {
     "cell_type": "code",
     "collapsed": false,
     "input": [
      "# TODO(Bieber): Index to speed up finding particular cards\n",
      "def exampleofshading(shading=\"empty\"):\n",
      "    for image, card in zip(X, Y):\n",
      "        if card[SHAPE] == \"rounded-rectangle\" and card[NUMBER] == 'one' and card[SHADING] == shading:\n",
      "            return image"
     ],
     "language": "python",
     "metadata": {},
     "outputs": [],
     "prompt_number": 760
    },
    {
     "cell_type": "code",
     "collapsed": false,
     "input": [
      "def show(image):\n",
      "    plt.imshow(image, cmap=cm.Greys_r)\n",
      "    plt.show()"
     ],
     "language": "python",
     "metadata": {},
     "outputs": [],
     "prompt_number": 761
    },
    {
     "cell_type": "code",
     "collapsed": false,
     "input": [],
     "language": "python",
     "metadata": {},
     "outputs": []
    }
   ],
   "metadata": {}
  }
 ]
}