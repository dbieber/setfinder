{
 "metadata": {
  "name": ""
 },
 "nbformat": 3,
 "nbformat_minor": 0,
 "worksheets": [
  {
   "cells": [
    {
     "cell_type": "code",
     "collapsed": false,
     "input": [
      "import cv\n",
      "import cv2\n",
      "from cardidentifier import CardIdentifier"
     ],
     "language": "python",
     "metadata": {},
     "outputs": [],
     "prompt_number": 8
    },
    {
     "cell_type": "code",
     "collapsed": false,
     "input": [
      "def groundtruth():\n",
      "    groundtruthfile = open(\"data/ground_truth.txt\")\n",
      "\n",
      "    for line in groundtruthfile:\n",
      "        tokens = line.split()\n",
      "        tokens[0] = \"data/input_images/%s\" % tokens[0]\n",
      "        yield tokens\n",
      "\n",
      "    groundtruthfile.close()"
     ],
     "language": "python",
     "metadata": {},
     "outputs": [],
     "prompt_number": 11
    },
    {
     "cell_type": "code",
     "collapsed": false,
     "input": [
      "def main():\n",
      "    c = CardIdentifier()\n",
      "\n",
      "    for i, tokens in enumerate(groundtruth()):\n",
      "        filename = \"data/input_images/%s\" % tokens[0]\n",
      "        image = cv2.imread(filename)\n",
      "        prediction = c.predict(image)\n"
     ],
     "language": "python",
     "metadata": {},
     "outputs": [],
     "prompt_number": 6
    },
    {
     "cell_type": "code",
     "collapsed": false,
     "input": [
      "def generate_groundtruth():\n",
      "    def on_mouse(event, x, y, flag, param):\n",
      "        if event == cv.CV_MO\n",
      "        print event, x, y\n",
      "    cv.NamedWindow(\"window\")\n",
      "    cv.SetMouseCallback(\"window\", on_mouse)\n",
      "\n",
      "    for i, tokens in enumerate(groundtruth()):\n",
      "        filename = tokens[0]\n",
      "        image = cv.LoadImage(filename)\n",
      "        cv.ShowImage(\"window\", image)\n",
      "        while True:\n",
      "            if cv.WaitKey(10) == 27:\n",
      "                break"
     ],
     "language": "python",
     "metadata": {},
     "outputs": [],
     "prompt_number": 12
    },
    {
     "cell_type": "code",
     "collapsed": false,
     "input": [
      "generate_groundtruth()"
     ],
     "language": "python",
     "metadata": {},
     "outputs": [
      {
       "output_type": "stream",
       "stream": "stdout",
       "text": [
        "0 361 339\n",
        "0 361 303\n",
        "0 361 272\n",
        "0 361 260\n",
        "0"
       ]
      },
      {
       "output_type": "stream",
       "stream": "stdout",
       "text": [
        " 361 245\n",
        "0 361 240\n",
        "0 360 237\n",
        "0"
       ]
      },
      {
       "output_type": "stream",
       "stream": "stdout",
       "text": [
        " 358 236\n",
        "0 357 236\n",
        "0"
       ]
      },
      {
       "output_type": "stream",
       "stream": "stdout",
       "text": [
        " 357 235\n",
        "0 357 234\n",
        "0 355 231\n",
        "0 354 227\n",
        "0"
       ]
      },
      {
       "output_type": "stream",
       "stream": "stdout",
       "text": [
        " 347 217\n",
        "0 340 207\n",
        "0 332 195\n",
        "0"
       ]
      },
      {
       "output_type": "stream",
       "stream": "stdout",
       "text": [
        " 322 186\n",
        "0 313 175\n",
        "0 305 166\n",
        "0"
       ]
      },
      {
       "output_type": "stream",
       "stream": "stdout",
       "text": [
        " 301 161\n",
        "0 296 154\n",
        "0 292 149\n",
        "0 288 147\n",
        "0"
       ]
      },
      {
       "output_type": "stream",
       "stream": "stdout",
       "text": [
        " 285 145\n",
        "0 283 143\n",
        "0 280 140\n",
        "0"
       ]
      },
      {
       "output_type": "stream",
       "stream": "stdout",
       "text": [
        " 278 138\n",
        "0 275 135\n",
        "0 273 132\n",
        "0 270 131\n",
        "0"
       ]
      },
      {
       "output_type": "stream",
       "stream": "stdout",
       "text": [
        " 268 129\n",
        "0 267 129\n",
        "0 267 128\n",
        "0"
       ]
      },
      {
       "output_type": "stream",
       "stream": "stdout",
       "text": [
        " 266 128\n",
        "0 266 127\n",
        "0 265 125\n",
        "0 264 123\n",
        "0"
       ]
      },
      {
       "output_type": "stream",
       "stream": "stdout",
       "text": [
        " 264 121\n",
        "0 262 120\n",
        "0"
       ]
      },
      {
       "output_type": "stream",
       "stream": "stdout",
       "text": [
        " 261 120\n",
        "0"
       ]
      },
      {
       "output_type": "stream",
       "stream": "stdout",
       "text": [
        " 261 119\n",
        "0 260 118\n",
        "0 260 117\n",
        "0"
       ]
      },
      {
       "output_type": "stream",
       "stream": "stdout",
       "text": [
        " 259 116\n",
        "0 258 116\n",
        "0 256 114\n",
        "0 256 113\n",
        "0"
       ]
      },
      {
       "output_type": "stream",
       "stream": "stdout",
       "text": [
        " 255 113\n",
        "0 255 113\n",
        "0 254 113\n",
        "0"
       ]
      },
      {
       "output_type": "stream",
       "stream": "stdout",
       "text": [
        " 248 113\n",
        "0 228 101\n",
        "0 206 84\n",
        "0 179 64\n",
        "0"
       ]
      },
      {
       "output_type": "stream",
       "stream": "stdout",
       "text": [
        " 143 42\n",
        "0 116 29\n",
        "0 102 22\n",
        "0 82 16\n",
        "0"
       ]
      },
      {
       "output_type": "stream",
       "stream": "stdout",
       "text": [
        " 75 14\n",
        "0 68 12\n",
        "0 63 11\n",
        "0 61 11\n",
        "0"
       ]
      },
      {
       "output_type": "stream",
       "stream": "stdout",
       "text": [
        " 60 11\n",
        "0 59 11\n",
        "0"
       ]
      },
      {
       "output_type": "stream",
       "stream": "stdout",
       "text": [
        " 59 14\n",
        "0 60 20\n",
        "0 66 29\n",
        "0 79 49\n",
        "0"
       ]
      },
      {
       "output_type": "stream",
       "stream": "stdout",
       "text": [
        " 99 74\n",
        "0 132 109\n",
        "0 168 145\n",
        "0"
       ]
      },
      {
       "output_type": "stream",
       "stream": "stdout",
       "text": [
        " 191 167\n",
        "0 208 181\n",
        "0 220 190\n",
        "0"
       ]
      },
      {
       "output_type": "stream",
       "stream": "stdout",
       "text": [
        " 227 193\n",
        "0"
       ]
      },
      {
       "output_type": "stream",
       "stream": "stdout",
       "text": [
        " 226 193\n",
        "0 226 194\n",
        "0 225 194\n",
        "0"
       ]
      },
      {
       "output_type": "stream",
       "stream": "stdout",
       "text": [
        " 225 195\n",
        "0 224 197\n",
        "0 223 200\n",
        "0"
       ]
      },
      {
       "output_type": "stream",
       "stream": "stdout",
       "text": [
        " 220 205\n",
        "0 219 210\n",
        "0 217 211\n",
        "0 216 211\n",
        "0"
       ]
      },
      {
       "output_type": "stream",
       "stream": "stdout",
       "text": [
        " 215 212\n",
        "0 214 212\n",
        "0 213 212\n",
        "0 212 212\n",
        "0"
       ]
      },
      {
       "output_type": "stream",
       "stream": "stdout",
       "text": [
        " 212 213\n",
        "0 212 214\n",
        "0 211 214\n",
        "0"
       ]
      },
      {
       "output_type": "stream",
       "stream": "stdout",
       "text": [
        " 211 213\n",
        "0 211 212\n",
        "0"
       ]
      },
      {
       "output_type": "stream",
       "stream": "stdout",
       "text": [
        " 211 211\n",
        "0"
       ]
      },
      {
       "output_type": "stream",
       "stream": "stdout",
       "text": [
        " 211 210\n",
        "0 211 209\n",
        "0"
       ]
      },
      {
       "output_type": "stream",
       "stream": "stdout",
       "text": [
        " 211 208\n",
        "0 211 207\n",
        "0"
       ]
      },
      {
       "output_type": "stream",
       "stream": "stdout",
       "text": [
        " 211 206\n",
        "0 211 205\n",
        "0 212 205\n",
        "0 217 202\n",
        "0"
       ]
      },
      {
       "output_type": "stream",
       "stream": "stdout",
       "text": [
        " 228 201\n",
        "0 243 199\n",
        "0 259 197\n",
        "0 269 196\n",
        "0"
       ]
      },
      {
       "output_type": "stream",
       "stream": "stdout",
       "text": [
        " 278 194\n",
        "0 281 194\n",
        "0 282 193\n",
        "0"
       ]
      },
      {
       "output_type": "stream",
       "stream": "stdout",
       "text": [
        " 282 192\n"
       ]
      }
     ],
     "prompt_number": 13
    },
    {
     "cell_type": "code",
     "collapsed": false,
     "input": [],
     "language": "python",
     "metadata": {},
     "outputs": []
    }
   ],
   "metadata": {}
  }
 ]
}