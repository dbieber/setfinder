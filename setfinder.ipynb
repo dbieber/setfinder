{
 "metadata": {
  "name": ""
 },
 "nbformat": 3,
 "nbformat_minor": 0,
 "worksheets": [
  {
   "cells": [
    {
     "cell_type": "code",
     "collapsed": false,
     "input": [
      "%pylab inline --no-import-all\n",
      "import cv\n",
      "import cv2\n",
      "import numpy as np\n",
      "import matplotlib.pyplot as plt\n",
      "import matplotlib.cm as cm\n",
      "import math\n",
      "\n",
      "from sklearn.svm import SVC\n",
      "from sklearn.neighbors import KNeighborsClassifier"
     ],
     "language": "python",
     "metadata": {},
     "outputs": [
      {
       "output_type": "stream",
       "stream": "stdout",
       "text": [
        "Populating the interactive namespace from numpy and matplotlib\n"
       ]
      }
     ],
     "prompt_number": 536
    },
    {
     "cell_type": "code",
     "collapsed": false,
     "input": [
      "NUMBER, SHADING, COLOR, SHAPE = 0, 1, 2, 3"
     ],
     "language": "python",
     "metadata": {},
     "outputs": [],
     "prompt_number": 498
    },
    {
     "cell_type": "heading",
     "level": 1,
     "metadata": {},
     "source": [
      "Classifier"
     ]
    },
    {
     "cell_type": "code",
     "collapsed": false,
     "input": [
      "def predict_number(card):\n",
      "    edges = card.edges()\n",
      "    height, width = edges.shape\n",
      "    x = width / 2\n",
      "    count = 0\n",
      "    waiting = 0\n",
      "    for y in range(5, height-5):\n",
      "        if edges[y][x] > 0 and waiting <= 0:\n",
      "            waiting = 10\n",
      "            count = count + 1\n",
      "        waiting = waiting - 1\n",
      "\n",
      "    count = count / 2\n",
      "    if count == 1:\n",
      "        card.number = \"one\"\n",
      "    elif count == 2:\n",
      "        card.number = \"two\"\n",
      "    elif count == 3:\n",
      "        card.number = \"three\"\n",
      "    else:\n",
      "        card.number = \"fail\""
     ],
     "language": "python",
     "metadata": {},
     "outputs": [],
     "prompt_number": 499
    },
    {
     "cell_type": "code",
     "collapsed": false,
     "input": [
      "def predict_shading(card):\n",
      "    gray = card.gray()\n",
      "    edges = cv2.Canny(gray, 404/2, 156/2, apertureSize=3)\n",
      "    number = card.number\n",
      "    height, width = gray.shape\n",
      "\n",
      "    tc = (10,50) # topcenter row,col\n",
      "    white = np.mean(gray[tc[0]-2:tc[0]+2,tc[1]-2:tc[1]+2])\n",
      "    \n",
      "    center = card.center()\n",
      "    \n",
      "    ws = 2 # window size\n",
      "    window = gray[center[1]-ws:center[1]+ws, center[0]-ws:center[0]+ws]\n",
      "    avg_color = np.mean(window)\n",
      "    \n",
      "    ratio = avg_color / white\n",
      "    if ratio < .6:\n",
      "        card.shading = 'solid'\n",
      "    elif ratio < .95:\n",
      "        card.shading = 'striped'\n",
      "    else:\n",
      "        card.shading = 'empty'"
     ],
     "language": "python",
     "metadata": {},
     "outputs": [],
     "prompt_number": 500
    },
    {
     "cell_type": "code",
     "collapsed": false,
     "input": [
      "def predict_color(card, flag=False):\n",
      "    gray = card.gray()\n",
      "    edges = cv2.Canny(gray, 404/4, 156/4, apertureSize=3)\n",
      "    image = card.hsv()\n",
      "\n",
      "    # Assumes rectified image\n",
      "    height, width = edges.shape\n",
      "    x = width / 2\n",
      "\n",
      "    # weird HSV\n",
      "\n",
      "    RED = np.array([2, 224, 189])\n",
      "    GREEN = np.array([70, 240, 105])\n",
      "    PURPLE = np.array([166, 207, 79])\n",
      "\n",
      "    # HSV\n",
      "    \"\"\"\n",
      "    RED = np.array([5, 88, 74])\n",
      "    GREEN = np.array([141, 94, 41])\n",
      "    PURPLE = np.array([293, 81, 31])\n",
      "    \"\"\"\n",
      "    colors = [RED, GREEN, PURPLE]\n",
      "    color_names = [\"red\", \"green\", \"purple\"]\n",
      "    color_counts = np.array([0, 0, 0])\n",
      "    for x in range(width/2-10, width/2+10, 4):\n",
      "\n",
      "        inside = False\n",
      "        ever_switch = False\n",
      "        beginning = True\n",
      "        beg_count = 0\n",
      "        beg_color = np.array([0, 0, 0])\n",
      "        color_counts_before = color_counts.copy()\n",
      "        for y in range(5, height-5):\n",
      "            if edges[y, x] > 0:\n",
      "                if beginning and beg_count != 0:\n",
      "                    beg_color /= beg_count\n",
      "                if flag:\n",
      "                    print 'beg_color', beg_color\n",
      "                beginning = False\n",
      "                inside = not inside\n",
      "                ever_switch = True\n",
      "\n",
      "            if beginning:\n",
      "                beg_count += 1\n",
      "                beg_color += image[y,x]\n",
      "\n",
      "\n",
      "            if inside:\n",
      "                color = np.array(image[y,x])\n",
      "                if flag:\n",
      "                    print color\n",
      "\n",
      "                if np.linalg.norm(color-beg_color, ord=1) < 60:\n",
      "                    continue\n",
      "                \"\"\"\n",
      "                if color[0] <= 20 or 165 <= color[0]:\n",
      "                    color_counts[0] += 1\n",
      "                if 30 <= color[0] <= 90:\n",
      "                    color_counts[1] += 1\n",
      "                if 100 <= color[0] <= 165:\n",
      "                    color_counts[2] += 1\n",
      "                \"\"\"\n",
      "                dists = []\n",
      "                for c in colors:\n",
      "                    d1 = abs(c[0]-color[0]) \n",
      "                    d2 = abs(c[0]+180-color[0]) \n",
      "                    dists.append(min(d1,d2))\n",
      "                if np.min(dists) < 25:\n",
      "                    color_counts[np.argmin(dists)] += 1\n",
      "        if not ever_switch or inside:\n",
      "            color_counts = color_counts_before\n",
      "\n",
      "    card.color = color_names[np.argmax(color_counts)]"
     ],
     "language": "python",
     "metadata": {},
     "outputs": [],
     "prompt_number": 501
    },
    {
     "cell_type": "code",
     "collapsed": false,
     "input": [
      "def predict_shape(card):\n",
      "    dists = card.dists()\n",
      "    \n",
      "    shape_distlists = [c.dists() for c in [diamondcard, squigglecard, rectanglecard]]\n",
      "    sims = [similarity(dists, distlist) for distlist in shape_distlists]\n",
      "\n",
      "    shapes = [\"diamond\", \"squiggle\", \"rounded-rectangle\"]\n",
      "    card.shape = shapes[np.argmax(sims)]\n"
     ],
     "language": "python",
     "metadata": {},
     "outputs": [],
     "prompt_number": 502
    },
    {
     "cell_type": "heading",
     "level": 1,
     "metadata": {},
     "source": [
      "Data"
     ]
    },
    {
     "cell_type": "code",
     "collapsed": false,
     "input": [
      "class Card():\n",
      "    def __init__(self, image):\n",
      "        self.image = image  # already rectified\n",
      "\n",
      "        self.number = None\n",
      "        self.shading = None\n",
      "        self.color = None\n",
      "        self.shape = None\n",
      "\n",
      "        self.grayimage = None\n",
      "        self.edgesimage = None\n",
      "        self.hsvimage = None\n",
      "        self.centerpt = None\n",
      "        self.distlist = None\n",
      "\n",
      "        self.shape_pred = None\n",
      "\n",
      "    def opencv_show(self):\n",
      "        cv2.destroyWindow('card_window')\n",
      "        cv2.imshow('card_window', self.image)\n",
      "\n",
      "    def opencv_show_canny(self):\n",
      "        cv2.destroyWindow('canny_window')\n",
      "        cv2.imshow('canny_window', self.edgesimage)\n",
      "        cv2.moveWindow('canny_window', 400, 0)\n",
      "        \n",
      "    def gray(self):\n",
      "        if self.grayimage is None:\n",
      "            self.grayimage = cv2.cvtColor(self.image, cv2.COLOR_BGR2GRAY)\n",
      "        return self.grayimage\n",
      "\n",
      "    def edges(self):\n",
      "        if self.edgesimage is None:\n",
      "            self.edgesimage = cv2.Canny(self.gray(), 404/8, 156/8, apertureSize=3)\n",
      "        return self.edgesimage\n",
      "\n",
      "    def hsv(self):\n",
      "        if self.hsvimage is None:\n",
      "            self.hsvimage = cv2.cvtColor(self.image, cv2.COLOR_BGR2HSV)\n",
      "        return self.hsvimage\n",
      "\n",
      "    def center(self):\n",
      "        if self.centerpt is None:\n",
      "            number = 2 if self.predict_number() == \"two\" else 1\n",
      "            self.centerpt = find_center(self.edges(), number)\n",
      "        return self.centerpt\n",
      "\n",
      "    def fail(self):\n",
      "        if 'fail' in self.labels():\n",
      "            return True\n",
      "\n",
      "    def labels(self):\n",
      "        return [self.predict_number(), self.predict_shading(), self.predict_color(), self.predict_shape()]\n",
      "\n",
      "    def dists(self):\n",
      "        if self.distlist is None:\n",
      "            canny = self.edges()\n",
      "            center = self.center()\n",
      "            dists = dists_to_edges(canny, center)\n",
      "#             for i in range(len(dists)):\n",
      "#                 dists[i] = dists[i]**3\n",
      "#             denom = np.linalg.norm(dists)\n",
      "#             if denom != 0:\n",
      "#                 self.distlist = dists / denom\n",
      "#             else:\n",
      "            self.distlist = dists\n",
      "        return self.distlist\n",
      "\n",
      "    def predict_number(self):\n",
      "        if self.number is None:\n",
      "            edges = self.edges()\n",
      "            height, width = edges.shape\n",
      "            x = width / 2\n",
      "            count = 0\n",
      "            waiting = 0\n",
      "            for y in range(5, height-5):\n",
      "                if edges[y][x] > 0 and waiting <= 0:\n",
      "                    waiting = 10\n",
      "                    count = count + 1\n",
      "                waiting = waiting - 1\n",
      "\n",
      "            count = count / 2\n",
      "            if count == 1:\n",
      "                self.number = \"one\"\n",
      "            elif count == 2:\n",
      "                self.number = \"two\"\n",
      "            elif count == 3:\n",
      "                self.number = \"three\"\n",
      "            else:\n",
      "                self.number = \"fail\"\n",
      "        return self.number\n",
      "\n",
      "    # <codecell>\n",
      "\n",
      "    def predict_shading(self):\n",
      "        if self.shading is None:\n",
      "            gray = self.gray()\n",
      "            edges = cv2.Canny(gray, 404/4, 156/4, apertureSize=3)\n",
      "            number = self.number\n",
      "            height, width = gray.shape\n",
      "\n",
      "            tc = (10,50) # topcenter row,col\n",
      "            white = np.mean(gray[tc[0]-2:tc[0]+2,tc[1]-2:tc[1]+2])\n",
      "\n",
      "            center = self.center()\n",
      "\n",
      "            ws = 2 # window size\n",
      "            window = gray[center[1]-ws:center[1]+ws, center[0]-ws:center[0]+ws]\n",
      "            avg_color = np.mean(window)\n",
      "\n",
      "            ratio = avg_color / white\n",
      "            if ratio < .6:\n",
      "                self.shading = 'solid'\n",
      "            elif ratio < .95:\n",
      "                self.shading = 'striped'\n",
      "            else:\n",
      "                self.shading = 'empty'\n",
      "        return self.shading\n",
      "\n",
      "    # <codecell>\n",
      "\n",
      "    def predict_color(self, flag=False):\n",
      "        if self.color is None:\n",
      "            gray = self.gray()\n",
      "            edges = self.edges() #cv2.Canny(gray, 404/4, 156/4, apertureSize=3)\n",
      "            image = self.hsv()\n",
      "\n",
      "            # Assumes rectified image\n",
      "            height, width = edges.shape\n",
      "            x = width / 2\n",
      "\n",
      "            # weird HSV\n",
      "\n",
      "            RED = np.array([2, 224, 189])\n",
      "            GREEN = np.array([70, 240, 105])\n",
      "            PURPLE = np.array([166, 207, 79])\n",
      "\n",
      "            # HSV\n",
      "            \"\"\"\n",
      "            RED = np.array([5, 88, 74])\n",
      "            GREEN = np.array([141, 94, 41])\n",
      "            PURPLE = np.array([293, 81, 31])\n",
      "            \"\"\"\n",
      "            colors = [RED, GREEN, PURPLE]\n",
      "            color_names = [\"red\", \"green\", \"purple\"]\n",
      "            color_counts = np.array([0, 0, 0])\n",
      "            for x in range(width/2-10, width/2+10, 4):\n",
      "\n",
      "                inside = False\n",
      "                ever_switch = False\n",
      "                beginning = True\n",
      "                beg_count = 0\n",
      "                beg_color = np.array([0, 0, 0])\n",
      "                color_counts_before = color_counts.copy()\n",
      "                for y in range(5, height-5):\n",
      "                    if edges[y, x] > 0:\n",
      "                        if beginning and beg_count != 0:\n",
      "                            beg_color /= beg_count\n",
      "                        if flag:\n",
      "                            print 'beg_color', beg_color\n",
      "                        beginning = False\n",
      "                        inside = not inside\n",
      "                        ever_switch = True\n",
      "\n",
      "                    if beginning:\n",
      "                        beg_count += 1\n",
      "                        beg_color += image[y,x]\n",
      "\n",
      "\n",
      "                    if inside:\n",
      "                        color = np.array(image[y,x])\n",
      "                        if flag:\n",
      "                            print color\n",
      "\n",
      "                        if np.linalg.norm(color-beg_color, ord=1) < 60:\n",
      "                            continue\n",
      "                        \"\"\"\n",
      "                        if color[0] <= 20 or 165 <= color[0]:\n",
      "                            color_counts[0] += 1\n",
      "                        if 30 <= color[0] <= 90:\n",
      "                            color_counts[1] += 1\n",
      "                        if 100 <= color[0] <= 165:\n",
      "                            color_counts[2] += 1\n",
      "                        \"\"\"\n",
      "                        dists = []\n",
      "                        for c in colors:\n",
      "                            d1 = abs(c[0]-color[0])\n",
      "                            d2 = abs(c[0]+180-color[0])\n",
      "                            dists.append(min(d1,d2))\n",
      "                        if np.min(dists) < 25:\n",
      "                            color_counts[np.argmin(dists)] += 1\n",
      "                if not ever_switch or inside:\n",
      "                    color_counts = color_counts_before\n",
      "\n",
      "            self.color = color_names[np.argmax(color_counts)]\n",
      "        return self.color\n",
      "\n",
      "    # <codecell>\n",
      "\n",
      "    def predict_shape(self):\n",
      "        if self.shape is None:\n",
      "            dists = self.dists()\n",
      "\n",
      "            shape_distlists = [c.dists() for c in [diamondcard, squigglecard, rectanglecard]]\n",
      "            sims = [similarity(dists, distlist) for distlist in shape_distlists]\n",
      "\n",
      "            if np.max(sims) < .5:\n",
      "                self.shape = 'fail'\n",
      "            else:\n",
      "                shapes = [\"diamond\", \"squiggle\", \"rounded-rectangle\"]\n",
      "                self.shape = shapes[np.argmax(sims)]\n",
      "                self.shape_pred = sims\n",
      "\n",
      "        return self.shape\n"
     ],
     "language": "python",
     "metadata": {},
     "outputs": [],
     "prompt_number": 573
    },
    {
     "cell_type": "code",
     "collapsed": false,
     "input": [
      "def find_center(canny, number=1):\n",
      "    # x,y\n",
      "    center = (50,70)\n",
      "    if number == 2:\n",
      "        center = (50,48)\n",
      "        \n",
      "    for i in xrange(2):\n",
      "        distRight = distance_to_edge(canny, center, 0)\n",
      "        distLeft = distance_to_edge(canny, center, np.pi)\n",
      "        center = (center[0] + (distRight - distLeft) / 2, center[1])\n",
      "        \n",
      "        distUp = distance_to_edge(canny, center, np.pi/2)\n",
      "        distDown = distance_to_edge(canny, center, 3*np.pi/2)\n",
      "        center = (center[0], center[1] + (distUp - distDown) / 2)\n",
      "        \n",
      "    center = (int(center[0]), int(center[1]))\n",
      "    return center"
     ],
     "language": "python",
     "metadata": {},
     "outputs": [],
     "prompt_number": 574
    },
    {
     "cell_type": "code",
     "collapsed": false,
     "input": [
      "def distance_to_edge(canny, pt, direction):\n",
      "    dist = 0.0\n",
      "    point = pt  # x,y\n",
      "    while dist < 50 and not is_edge_at(canny, point):\n",
      "        point = (int(pt[0] + dist * cos(direction)), int(pt[1] + dist * sin(direction)))\n",
      "        dist += 1\n",
      "    return dist"
     ],
     "language": "python",
     "metadata": {},
     "outputs": [],
     "prompt_number": 575
    },
    {
     "cell_type": "code",
     "collapsed": false,
     "input": [
      "def dists_to_edges(canny, point):\n",
      "    dists = []\n",
      "    for direction in np.arange(0,2*np.pi,np.pi/24):\n",
      "        dist = distance_to_edge(canny, point, direction)\n",
      "        if dist == 50 and len(dists) > 0:\n",
      "            dist = dists[-1]\n",
      "        dists.append(dist)\n",
      "    return np.array(dists)"
     ],
     "language": "python",
     "metadata": {},
     "outputs": [],
     "prompt_number": 576
    },
    {
     "cell_type": "code",
     "collapsed": false,
     "input": [
      "def is_edge_at(canny, point):\n",
      "    # point is x,y\n",
      "    window = canny[point[1]-1:point[1]+1,point[0]-1:point[0]+1]\n",
      "    return sum(window) > 0"
     ],
     "language": "python",
     "metadata": {},
     "outputs": [],
     "prompt_number": 577
    },
    {
     "cell_type": "code",
     "collapsed": false,
     "input": [
      "def similarity(a1,a2):\n",
      "    return 1 - np.sqrt(sum(a1-a2)**2)"
     ],
     "language": "python",
     "metadata": {},
     "outputs": [],
     "prompt_number": 578
    },
    {
     "cell_type": "code",
     "collapsed": false,
     "input": [
      "CARD_DIMENSIONS = (100, 140)"
     ],
     "language": "python",
     "metadata": {},
     "outputs": [],
     "prompt_number": 579
    },
    {
     "cell_type": "code",
     "collapsed": false,
     "input": [
      "def groundtruth(filename=\"data/ground_truth.txt\"):\n",
      "    groundtruthfile = open(filename)\n",
      "\n",
      "    for line in groundtruthfile:\n",
      "        tokens = [x.strip() for x in line.strip().split(\":\")]\n",
      "        filename = tokens[0]\n",
      "        cards = None if len(tokens) == 1 else [x.strip() for x in tokens[1].split(\";\")]\n",
      "        yield (filename, cards)\n",
      "\n",
      "    groundtruthfile.close()"
     ],
     "language": "python",
     "metadata": {},
     "outputs": [],
     "prompt_number": 580
    },
    {
     "cell_type": "code",
     "collapsed": false,
     "input": [
      "def attrs_from_card(card):\n",
      "    tokens = card.split(\" \")\n",
      "    return tokens[:4]\n",
      "\n",
      "def points_from_card(card):\n",
      "    tokens = card.split(\" \")\n",
      "    if len(tokens) > 4:\n",
      "        points = eval(\"[%s]\" % ''.join(tokens[4:]))\n",
      "        return points"
     ],
     "language": "python",
     "metadata": {},
     "outputs": [],
     "prompt_number": 511
    },
    {
     "cell_type": "code",
     "collapsed": false,
     "input": [
      "def rectify(image, pts):\n",
      "    corners = np.float32(pts)\n",
      "\n",
      "    target_corners = np.float32([\n",
      "        (0, 0),\n",
      "        (CARD_DIMENSIONS[0], 0),\n",
      "        (CARD_DIMENSIONS[0], CARD_DIMENSIONS[1]),\n",
      "        (0, CARD_DIMENSIONS[1])\n",
      "    ])\n",
      "\n",
      "    m, mask = cv2.findHomography(corners, target_corners)\n",
      "    skew = cv2.warpPerspective(image, m, CARD_DIMENSIONS)\n",
      "    return skew"
     ],
     "language": "python",
     "metadata": {},
     "outputs": [],
     "prompt_number": 512
    },
    {
     "cell_type": "code",
     "collapsed": false,
     "input": [
      "def gen_data(filename):\n",
      "    X = []  # cards\n",
      "    Y = []  # labels\n",
      "    for i, (filename, cards) in enumerate(groundtruth(filename)):\n",
      "        image = cv2.imread(filename)\n",
      "        for j, card in enumerate(cards):\n",
      "            pts = points_from_card(card)\n",
      "            if not pts:\n",
      "                continue\n",
      "    \n",
      "            cardimage = rectify(image, pts)\n",
      "    \n",
      "            X.append(Card(cardimage))\n",
      "            Y.append(attrs_from_card(card))\n",
      "    \n",
      "    Y = np.array(Y)\n",
      "    return X, Y"
     ],
     "language": "python",
     "metadata": {},
     "outputs": [],
     "prompt_number": 513
    },
    {
     "cell_type": "heading",
     "level": 1,
     "metadata": {},
     "source": [
      "Train"
     ]
    },
    {
     "cell_type": "code",
     "collapsed": false,
     "input": [
      "trainX, trainY = gen_data(\"data/training.txt\")"
     ],
     "language": "python",
     "metadata": {},
     "outputs": [],
     "prompt_number": 581
    },
    {
     "cell_type": "code",
     "collapsed": false,
     "input": [
      "number_features = []\n",
      "shading_features = []\n",
      "shape_features = []\n",
      "\n",
      "for card, labels in zip(trainX, trainY):\n",
      "    card.number = 2 if labels[NUMBER] == \"two\" else 1\n",
      "    shape_features.append(card.dists())\n",
      "    \n",
      "# self.number_clf = SVC()\n",
      "# self.number_clf.fit(number_features, Y[:,NUMBER])\n",
      "# self.shading_clf = SVC()\n",
      "# self.shading_clf.fit(shading_features, Y[:,SHADING])\n",
      "shape_clf = SVC()\n",
      "shape_clf.fit(shape_features, Y[:,SHAPE])"
     ],
     "language": "python",
     "metadata": {},
     "outputs": [
      {
       "metadata": {},
       "output_type": "pyout",
       "prompt_number": 582,
       "text": [
        "SVC(C=1.0, cache_size=200, class_weight=None, coef0=0.0, degree=3, gamma=0.0,\n",
        "  kernel='rbf', max_iter=-1, probability=False, random_state=None,\n",
        "  shrinking=True, tol=0.001, verbose=False)"
       ]
      }
     ],
     "prompt_number": 582
    },
    {
     "cell_type": "code",
     "collapsed": false,
     "input": [
      "# TODO(Bieber): Index to speed up finding particular cards\n",
      "def exampleofcard(feature=SHADING, value=\"empty\"):\n",
      "    ANY = \"*\"\n",
      "    desiredValues = [\"one\",\"empty\",ANY,\"rounded-rectangle\"]\n",
      "    desiredValues[feature] = value\n",
      "    \n",
      "    for card, labels in zip(trainX, trainY):\n",
      "        ok = True\n",
      "        for attr in xrange(4):\n",
      "            if desiredValues[attr] != ANY and labels[attr] != desiredValues[attr]:\n",
      "                ok = False\n",
      "                break\n",
      "        if ok:\n",
      "            return card"
     ],
     "language": "python",
     "metadata": {},
     "outputs": [],
     "prompt_number": 515
    },
    {
     "cell_type": "code",
     "collapsed": false,
     "input": [
      "diamondcard = exampleofcard(SHAPE, \"diamond\")\n",
      "rectanglecard = exampleofcard(SHAPE, \"rounded-rectangle\")\n",
      "squigglecard = exampleofcard(SHAPE, \"squiggle\")"
     ],
     "language": "python",
     "metadata": {},
     "outputs": [],
     "prompt_number": 516
    },
    {
     "cell_type": "code",
     "collapsed": false,
     "input": [],
     "language": "python",
     "metadata": {},
     "outputs": []
    },
    {
     "cell_type": "code",
     "collapsed": false,
     "input": [],
     "language": "python",
     "metadata": {},
     "outputs": []
    },
    {
     "cell_type": "heading",
     "level": 1,
     "metadata": {},
     "source": [
      "Test"
     ]
    },
    {
     "cell_type": "code",
     "collapsed": false,
     "input": [
      "X, Y = gen_data(\"data/test.txt\")"
     ],
     "language": "python",
     "metadata": {},
     "outputs": [],
     "prompt_number": 585
    },
    {
     "cell_type": "code",
     "collapsed": false,
     "input": [
      "for card, labels in zip(X, Y):\n",
      "    card.number = 2 if labels[NUMBER] == \"two\" else 1\n",
      "    print shape_clf.predict(card.dists())[0], labels[SHAPE]\n",
      "    edges = card.edges().copy()\n",
      "#     cv2.circle(edges, card.center()\n",
      "#     showimage(edges)"
     ],
     "language": "python",
     "metadata": {},
     "outputs": [
      {
       "output_type": "stream",
       "stream": "stdout",
       "text": [
        "squiggle rounded-rectangle\n",
        "squiggle rounded-rectangle\n",
        "squiggle"
       ]
      },
      {
       "output_type": "stream",
       "stream": "stdout",
       "text": [
        " rounded-rectangle\n",
        "squiggle rounded-rectangle\n",
        "squiggle rounded-rectangle\n",
        "rounded-rectangle"
       ]
      },
      {
       "output_type": "stream",
       "stream": "stdout",
       "text": [
        " rounded-rectangle\n",
        "squiggle squiggle\n",
        "rounded-rectangle"
       ]
      },
      {
       "output_type": "stream",
       "stream": "stdout",
       "text": [
        " rounded-rectangle\n",
        "squiggle rounded-rectangle\n",
        "rounded-rectangle rounded-rectangle\n",
        "squiggle"
       ]
      },
      {
       "output_type": "stream",
       "stream": "stdout",
       "text": [
        " squiggle\n",
        "rounded-rectangle"
       ]
      },
      {
       "output_type": "stream",
       "stream": "stdout",
       "text": [
        " rounded-rectangle\n",
        "rounded-rectangle rounded-rectangle\n",
        "rounded-rectangle"
       ]
      },
      {
       "output_type": "stream",
       "stream": "stdout",
       "text": [
        " rounded-rectangle\n",
        "squiggle squiggle\n",
        "rounded-rectangle"
       ]
      },
      {
       "output_type": "stream",
       "stream": "stdout",
       "text": [
        " rounded-rectangle\n",
        "squiggle diamond\n",
        "rounded-rectangle"
       ]
      },
      {
       "output_type": "stream",
       "stream": "stdout",
       "text": [
        " rounded-rectangle\n",
        "rounded-rectangle"
       ]
      },
      {
       "output_type": "stream",
       "stream": "stdout",
       "text": [
        " rounded-rectangle\n",
        "rounded-rectangle"
       ]
      },
      {
       "output_type": "stream",
       "stream": "stdout",
       "text": [
        " rounded-rectangle\n",
        "rounded-rectangle"
       ]
      },
      {
       "output_type": "stream",
       "stream": "stdout",
       "text": [
        " rounded-rectangle\n",
        "rounded-rectangle"
       ]
      },
      {
       "output_type": "stream",
       "stream": "stdout",
       "text": [
        " rounded-rectangle\n",
        "rounded-rectangle"
       ]
      },
      {
       "output_type": "stream",
       "stream": "stdout",
       "text": [
        " rounded-rectangle\n",
        "squiggle rounded-rectangle\n",
        "squiggle diamond\n",
        "squiggle"
       ]
      },
      {
       "output_type": "stream",
       "stream": "stdout",
       "text": [
        " squiggle\n",
        "squiggle"
       ]
      },
      {
       "output_type": "stream",
       "stream": "stdout",
       "text": [
        " rounded-rectangle\n",
        "rounded-rectangle"
       ]
      },
      {
       "output_type": "stream",
       "stream": "stdout",
       "text": [
        " rounded-rectangle\n",
        "rounded-rectangle"
       ]
      },
      {
       "output_type": "stream",
       "stream": "stdout",
       "text": [
        " rounded-rectangle\n",
        "rounded-rectangle"
       ]
      },
      {
       "output_type": "stream",
       "stream": "stdout",
       "text": [
        " rounded-rectangle\n",
        "squiggle rounded-rectangle\n",
        "diamond"
       ]
      },
      {
       "output_type": "stream",
       "stream": "stdout",
       "text": [
        " diamond\n",
        "squiggle squiggle\n",
        "rounded-rectangle"
       ]
      },
      {
       "output_type": "stream",
       "stream": "stdout",
       "text": [
        " rounded-rectangle\n"
       ]
      }
     ],
     "prompt_number": 586
    },
    {
     "cell_type": "code",
     "collapsed": false,
     "input": [
      "counts = [0] * 5\n",
      "for card, labels in zip(X, Y):\n",
      "    predict_number(card)\n",
      "    predict_shading(card)\n",
      "    predict_color(card)\n",
      "    predict_shape(card)\n",
      "    \n",
      "    numberok = card.number == labels[NUMBER]\n",
      "    shadingok = card.shading == labels[SHADING]\n",
      "    colorok = card.color == labels[COLOR]\n",
      "    shapeok = card.shape == labels[SHAPE]\n",
      "    allok = numberok and shadingok and colorok and shapeok\n",
      "    \n",
      "    if not shadingok:\n",
      "        gray = card.gray().copy()\n",
      "        cv2.circle(gray, card.center(), 1, 255)\n",
      "        showimage(gray)\n",
      "    \n",
      "    counts[NUMBER] += numberok\n",
      "    counts[SHADING] += shadingok\n",
      "    counts[COLOR] += colorok\n",
      "    counts[SHAPE] += shapeok\n",
      "    counts[4] += allok\n",
      "    \n",
      "print counts, len(X)"
     ],
     "language": "python",
     "metadata": {},
     "outputs": [
      {
       "metadata": {},
       "output_type": "display_data",
       "png": "[encoded data removed]",
       "text": [
        "<matplotlib.figure.Figure at 0x10d486350>"
       ]
      },
      {
       "output_type": "stream",
       "stream": "stdout",
       "text": [
        "[81, 80, 81, 75, 74] 81\n"
       ]
      }
     ],
     "prompt_number": 522
    },
    {
     "cell_type": "code",
     "collapsed": false,
     "input": [
      "def showimage(image):\n",
      "    plt.imshow(image, cmap=cm.Greys_r)\n",
      "    plt.show()"
     ],
     "language": "python",
     "metadata": {},
     "outputs": [],
     "prompt_number": 519
    },
    {
     "cell_type": "code",
     "collapsed": false,
     "input": [],
     "language": "python",
     "metadata": {},
     "outputs": [],
     "prompt_number": 490
    },
    {
     "cell_type": "code",
     "collapsed": false,
     "input": [],
     "language": "python",
     "metadata": {},
     "outputs": [],
     "prompt_number": 490
    },
    {
     "cell_type": "code",
     "collapsed": false,
     "input": [],
     "language": "python",
     "metadata": {},
     "outputs": [],
     "prompt_number": 409
    },
    {
     "cell_type": "code",
     "collapsed": false,
     "input": [],
     "language": "python",
     "metadata": {},
     "outputs": [],
     "prompt_number": 409
    },
    {
     "cell_type": "code",
     "collapsed": false,
     "input": [],
     "language": "python",
     "metadata": {},
     "outputs": [],
     "prompt_number": 409
    },
    {
     "cell_type": "code",
     "collapsed": false,
     "input": [],
     "language": "python",
     "metadata": {},
     "outputs": [],
     "prompt_number": 409
    },
    {
     "cell_type": "code",
     "collapsed": false,
     "input": [],
     "language": "python",
     "metadata": {},
     "outputs": []
    }
   ],
   "metadata": {}
  }
 ]
}